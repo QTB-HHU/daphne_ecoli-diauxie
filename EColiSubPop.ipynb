{
 "cells": [
  {
   "cell_type": "markdown",
   "metadata": {
    "deletable": true,
    "editable": true
   },
   "source": [
    "# Simulating communities of *E. coli* with the dFBA+ODE framework\n",
    "\n",
    "This Jupyter notebook illustrates how to use the framework provided [here](https://github.com/QTB-HHU/dfba-ode-framework_ecoli-diauxie) to simulate a community of *E. coli* subpopulations growing on different carbon sources.\n",
    "\n",
    "For more details please refer to the [main publication (preprint)](https://www.biorxiv.org/content/early/2018/04/26/291492) and to the [software metapaper (in preparation)](NA).\n",
    "\n",
    "## The ecDiauxie macro\n",
    "\n",
    "The framework provides an Object Oriented infrastructure to interface communities of metabolic network models with ordinary differential equations. All the variables in the ecDiauxie.py macro can be set via command line. In this notebook we will focus on the construction of the model and will only use the relevant parts of the code. \n",
    "\n",
    "### Load modules\n",
    "   "
   ]
  },
  {
   "cell_type": "code",
   "execution_count": 16,
   "metadata": {
    "collapsed": false,
    "deletable": true,
    "editable": true
   },
   "outputs": [],
   "source": [
    "import sys\n",
    "sys.path.append('code/python/') \n",
    "import classModel as cmo\n",
    "import classReaction as cre\n",
    "import classMetabolite as cme\n",
    "import classConsortium as cco\n",
    "import classPlotter as plotter\n",
    "import classConvertionFactors as ccf\n",
    "import cobra\n",
    "import pandas\n",
    "from cobra.flux_analysis import parsimonious\n",
    "import numpy as np\n",
    "import matplotlib.pyplot as plt\n",
    "import argparse\n",
    "import plstyles\n",
    "import random\n",
    "import cPickle\n",
    "import json\n",
    "import copy\n",
    "from matplotlib import gridspec"
   ]
  },
  {
   "cell_type": "markdown",
   "metadata": {
    "deletable": true,
    "editable": true
   },
   "source": [
    "### Variables setting\n",
    "\n",
    "These are the values used for the simulation of Figure 4."
   ]
  },
  {
   "cell_type": "code",
   "execution_count": 17,
   "metadata": {
    "collapsed": false,
    "deletable": true,
    "editable": true
   },
   "outputs": [],
   "source": [
    "expcondLabels = {'batch_high_Ac': 'grown on 45 mM Ac',\n",
    "                 'batch_low_Ac': 'grown on 4 mM Ac',\n",
    "                 'batch_mixed_Ac': 'grown on 15 mM Glc, 32 mM Ac',\n",
    "                 'batch_low_Glc': 'grown on 15 mM Glc',\n",
    "                 'fedbatch_low_Ac': 'grown on 15 mM Glc, fed 4 mM Ac',\n",
    "                 'fedbatch_high_Ac': 'grown on 15 mM Glc, fed 32 mM Ac'}\n",
    "\n",
    "outpath='outputs/notebook/'\n",
    "label='diauxic_shift'\n",
    "ename = 'ecoli core'\n",
    "\n",
    "# GSM model, default = E. coli core\n",
    "# http://bigg.ucsd.edu/models/e_coli_core\n",
    "mpath = 'ecoli/bigg/e_coli_core.xml'\n",
    "bmf = 'BIOMASS_Ecoli_core_w_GAM'\n",
    "rxnnames = {'EX_glc_e':'EX_glc__D_e', \n",
    "            'EX_o2_e': 'EX_o2_e',\n",
    "            'EX_ac_e':'EX_ac_e'}\n",
    "\n",
    "ODtoGDW=0.33\n",
    "volExt = 0.03\n",
    "volUn = 'L'\n",
    "\n",
    "maxtime = 10.5\n",
    "biomass0 = 0.0038\n",
    "\n",
    "\n",
    "#biomass dilution rate in chemostat, 1/hr\n",
    "ch = 0. \n",
    "\n",
    "death_rate = -0.03\n",
    "\n",
    "thrPc = 0.99999\n",
    "pcECgl = 0.95\n",
    "strratioecgl = (\"%.2f\" % pcECgl).replace('.','p')\n",
    "if pcECgl > thrPc:\n",
    "    pcECgl = thrPc\n",
    "if pcECgl < (1 - thrPc):\n",
    "    pcECgl = 1 - thrPc"
   ]
  },
  {
   "cell_type": "markdown",
   "metadata": {
    "deletable": true,
    "editable": true
   },
   "source": [
    "### Set the Carbon initial conditions\n",
    "\n",
    "Either do custom settings or set one of the experimental conditions to True."
   ]
  },
  {
   "cell_type": "code",
   "execution_count": 18,
   "metadata": {
    "collapsed": false,
    "deletable": true,
    "editable": true
   },
   "outputs": [
    {
     "name": "stdout",
     "output_type": "stream",
     "text": [
      "Simulating Batch Growth on 15mM Glucose and constant 4mM Acetate as in Enjalbert2015\n"
     ]
    }
   ],
   "source": [
    "expcond = 'batch_low_Glc'\n",
    "glucose0 = 15.0 #mM\n",
    "acetate0 = 0.0 #mM\n",
    "fb=0.\n",
    "afb=0.\n",
    "ac_thr = 0.0\n",
    "t_glc = 0.0\n",
    "\n",
    "runhighacetate = runlowacetate = runbatchglc = runmixedacetate = runfedlowacetate = runfedhighacetate = runvarmabatch = runvarmafedbatch =False\n",
    "runfedlowacetate = True\n",
    "\n",
    "if runhighacetate:\n",
    "    print('Simulating Batch Growth on 45mM Acetate as in Enjalbert2015')\n",
    "    expcond = 'batch_high_Ac'\n",
    "    glucose0 = 0.0\n",
    "    acetate0 = 45.0\n",
    "elif runlowacetate:\n",
    "    print('Simulating Batch Growth on 4mM Acetate as in Enjalbert2015')\n",
    "    expcond = 'batch_low_Ac'\n",
    "    glucose0 = 0.0\n",
    "    acetate0 = 4.0\n",
    "elif runbatchglc:\n",
    "    print('Simulating Batch Growth on 15mM Glucose as in Enjalbert2015')\n",
    "    expcond = 'batch_low_Glc'\n",
    "    glucose0 = 15.0 #mM\n",
    "    acetate0 = 0.0 #mM\n",
    "    fb=0.\n",
    "    afb=0.\n",
    "elif runmixedacetate:\n",
    "    print('Simulating Batch Growth on 15mM Glucose 32mM Acetate as in Enjalbert2015')\n",
    "    expcond = 'batch_mixed_Ac'\n",
    "    glucose0 = 15.0\n",
    "    acetate0 = 32.0\n",
    "elif runfedlowacetate:\n",
    "    print('Simulating Batch Growth on 15mM Glucose and constant 4mM Acetate as in Enjalbert2015')\n",
    "    expcond = 'fedbatch_low_Ac'\n",
    "    glucose0 = 15.0\n",
    "    acetate0 = 0.0\n",
    "    afb=1.0\n",
    "    ac_thr = 4.0\n",
    "    t_glc = 4.0\n",
    "elif runfedhighacetate:\n",
    "    print('Simulating Batch Growth on 15mM Glucose and constant 32mM Acetate as in Enjalbert2015')\n",
    "    expcond = 'fedbatch_high_Ac'\n",
    "    glucose0 = 15.0\n",
    "    acetate0 = 32.0\n",
    "    afb=1.0\n",
    "    ac_thr = 32.0\n",
    "    t_glc = 4.0\n",
    "elif runvarmabatch:\n",
    "    print('Simulating Batch Growth on Glucose as in Varma1994 Fig.7')\n",
    "    expcond = 'varma_batch'\n",
    "    glucose0 = 10.8\n",
    "    acetate0 = 0.4\n",
    "elif runvarmafedbatch:\n",
    "    print('Simulating Fed Batch Growth on Glucose as in Varma1994 Fig.10')\n",
    "    expcond = 'varma_fedbatch'\n",
    "    glucose0 = 0.82\n",
    "    acetate0 = 0.1\n",
    "    #glucose is continuously provided\n",
    "    #0.2 g/(L*hr)\n",
    "    #1 g = 5.5 mmol\n",
    "    #dGLC/dt = ... + fb ==> units = mmol/hr\n",
    "    fb = 5.5*0.2*volExt #mmol/hr\n",
    "else:\n",
    "    print('Simulating custom conditions')\n",
    "\n",
    "exitname = '%s-%s-%s' % (ename.replace(' ','_'), expcond, label) \n",
    "\n",
    "## biomass0 is already gDW\n",
    "## glucose0 and acetate0 are concentrations (mM)\n",
    "## dMetabolites are initialized with quantities (mmol)\n",
    "acetate0 = volExt*acetate0 # mM*L = mmol\n",
    "glucose0 = volExt*glucose0 # mM*L = mmol"
   ]
  },
  {
   "cell_type": "markdown",
   "metadata": {
    "deletable": true,
    "editable": true
   },
   "source": [
    "### Transition functions parameters\n",
    "\n",
    "Comment/uncomment the parameters based on how you want to implement the transitions."
   ]
  },
  {
   "cell_type": "code",
   "execution_count": 19,
   "metadata": {
    "collapsed": true,
    "deletable": true,
    "editable": true
   },
   "outputs": [],
   "source": [
    "\n",
    "transition_efficiency = 0.9\n",
    "\n",
    "# No transition\n",
    "#psi0 = 0.\n",
    "#psi_transition_rate = 0.\n",
    "#psi_transition_KM = 0.\n",
    "#phi0 = 0.\n",
    "#phi_transition_rate = 0.\n",
    "#phi_transition_KM = 0.\n",
    "\n",
    "# Noise transition\n",
    "#psi0 = 0.04\n",
    "#phi0 = 0.04\n",
    "#psi_transition_rate = 0.\n",
    "#psi_transition_KM = 0.\n",
    "#phi_transition_rate = 0.\n",
    "#phi_transition_KM = 0.\n",
    "\n",
    "# Concentration dependent transition\n",
    "psi0 = 0.04\n",
    "phi0 = 0.04\n",
    "psi_transition_rate = 0.2\n",
    "phi_transition_rate = 0.2\n",
    "psi_transition_KM = 30.0\n",
    "phi_transition_KM = 5.0\n"
   ]
  },
  {
   "cell_type": "markdown",
   "metadata": {
    "deletable": true,
    "editable": true
   },
   "source": [
    "### Set the flux constraints\n",
    "\n",
    "These values are either taken from literature or calibrated on the data from Varma and Palsson 1994."
   ]
  },
  {
   "cell_type": "code",
   "execution_count": 20,
   "metadata": {
    "collapsed": true,
    "deletable": true,
    "editable": true
   },
   "outputs": [],
   "source": [
    "## Uptake parameters\n",
    "## Uptake Vmax 10 mmol/g/hr (Gosset, 2005)\n",
    "## Uptake Km 10 muM = 0.01 mM (Gosset, 2005)\n",
    "vmaxexglc = 10. #mmol/g/hr\n",
    "vmaxexace = 10. #mmol/g/hr\n",
    "kmuptake = 0.01 #mM\n",
    "## Parametrized with Varma 1994\n",
    "vminoxygen = 11.5\n",
    "ubexace = 3.0"
   ]
  },
  {
   "cell_type": "markdown",
   "metadata": {
    "deletable": true,
    "editable": true
   },
   "source": [
    "## Build the two *E. coli* models\n",
    "\n",
    "Define two DModels. "
   ]
  },
  {
   "cell_type": "code",
   "execution_count": 21,
   "metadata": {
    "collapsed": false,
    "deletable": true,
    "editable": true
   },
   "outputs": [],
   "source": [
    "## DMetabolite and DReaction instances for \n",
    "## ECgl \n",
    "## i.e. the Glucose consuming population\n",
    "\n",
    "biomass_ECgl = cme.Biomass([biomass0*pcECgl], {'growth': [(1, 'biomass_ECgl')], 'dilution': [(ch, None)], 'death': [(death_rate, 'biomass_ECgl')],\n",
    "                                               'psi_transition': [(-1., 'biomass_ECgl')], 'phi_transition': [(transition_efficiency, 'biomass_ECac')]})\n",
    "ex_glucose_ECgl = cme.DMetabolite('glc_D_e', [glucose0], False, {'glucose_exchange': [(1, 'biomass_ECgl')], 'glucose_fed': [(fb, None)] })\n",
    "ex_acetate_ECgl = cme.DMetabolite('ac_e', [acetate0], False, {'acetate_exchange': [(1, 'biomass_ECgl')]})#, 'acetate_fed': [(afb, None)]})\n",
    "    \n",
    "oxygen_exchange_ECgl = cre.DReaction(rxnnames['EX_o2_e'], cre.FixedBound(vminoxygen, 0), False)\n",
    "### Ac secretion but no uptake\n",
    "acetate_exchange_ECgl = cre.DReaction(rxnnames['EX_ac_e'], cre.FixedBound(0., ubexace), True)\n",
    "\n",
    "glucose_exchange_ECgl = cre.DReaction(rxnnames['EX_glc_e'], cre.MichaelisMenten1(ex_glucose_ECgl, 1, vmaxexglc, kmuptake, 1, upperBound=15.), False)\n",
    "growth_ECgl = cre.DReaction(bmf, cre.FixedBound(0., 1000.))\n",
    "\n",
    "## DMetabolite and DReaction instances for \n",
    "## ECac \n",
    "## i.e. the Acetate consuming population\n",
    "\n",
    "biomass_ECac = cme.Biomass([biomass0*(1-pcECgl)], {'growth': [(1, 'biomass_ECac')], 'dilution': [(ch, None)], 'death': [(death_rate, 'biomass_ECac')],\n",
    "                                                   'psi_transition': [(transition_efficiency, 'biomass_ECgl')], 'phi_transition': [(-1., 'biomass_ECac')]})\n",
    "ex_glucose_ECac = cme.DMetabolite('glc_D_e', [glucose0], False, {'glucose_exchange': [(1, 'biomass_ECac')] })\n",
    "ex_acetate_ECac = cme.DMetabolite('ac_e', [acetate0], False, {'acetate_exchange': [(1, 'biomass_ECac')], 'acetate_fed': [(afb, 'biomass_ECac')]})\n",
    "    \n",
    "oxygen_exchange_ECac = cre.DReaction(rxnnames['EX_o2_e'], cre.FixedBound(vminoxygen, 0), False)\n",
    "acetate_exchange_ECac = cre.DReaction(rxnnames['EX_ac_e'], cre.MichaelisMenten1(ex_acetate_ECac, 1, vmaxexace, kmuptake, 1, upperBound=ubexace), False)\n",
    "### EX_glc off\n",
    "glucose_exchange_ECac = cre.DReaction(rxnnames['EX_glc_e'], cre.FixedBound(0.,0.), False)\n",
    "growth_ECac = cre.DReaction(bmf, cre.FixedBound(0., 1000.))\n",
    "\n",
    "acetate_fed_ECac = cre.DReaction(None, cre.SquareWave(9.1, 20, 1, t_glc), True, isODE=True)\n"
   ]
  },
  {
   "cell_type": "markdown",
   "metadata": {
    "deletable": true,
    "editable": true
   },
   "source": [
    "### Transition functions\n",
    "\n",
    "Define the dynamics of transitions"
   ]
  },
  {
   "cell_type": "code",
   "execution_count": 22,
   "metadata": {
    "collapsed": true,
    "deletable": true,
    "editable": true
   },
   "outputs": [],
   "source": [
    "lrxn = None\n",
    "lrxn2 = None\n",
    "\n",
    "\n",
    "hctrans = 5\n",
    "\n",
    "## phi = Glc -> Ac ##\n",
    "## ECglc senses Ac and transitions\n",
    "biomass_psi_transition_ECgl = cre.DReaction(None, cre.MichaelisMentenLinked(ex_acetate_ECgl, lowerBound=0.,\n",
    "                                                                            maxVelocity=psi_transition_rate, hillCoeff=hctrans,\n",
    "                                                                            mmConstant=psi_transition_KM, linkedReaction=lrxn, onThr=0., offset=psi0), True, isODE=True)\n",
    "# Need a copy to avoid duplicate entries; TODO: add option for class model to not update object dMetabolite/dReaction\n",
    "#biomass_psi_transition_ECac = copy.copy(biomass_psi_transition_ECgl)\n",
    "biomass_psi_transition_ECac = cre.DReaction(None, cre.MichaelisMentenLinked(ex_acetate_ECgl, lowerBound=0.,\n",
    "                                                                            maxVelocity=psi_transition_rate, hillCoeff=hctrans,\n",
    "                                                                            mmConstant=psi_transition_KM, linkedReaction=lrxn, onThr=0., offset=psi0), True, isODE=True)\n",
    "\n",
    "## phi = Ac -> Glc ##\n",
    "## ECac senses Glc and transitions\n",
    "biomass_phi_transition_ECac = cre.DReaction(None, cre.MichaelisMentenLinked(ex_glucose_ECac, lowerBound=0.,\n",
    "                                                                            maxVelocity=phi_transition_rate, hillCoeff=hctrans,\n",
    "                                                                            mmConstant=phi_transition_KM, linkedReaction=lrxn2, onThr=0., offset=phi0), True, isODE=True)\n",
    "# Need a copy to avoid duplicate entries; TODO: add option for class model to not update object dMetabolite/dReaction\n",
    "#biomass_phi_transition_ECgl = copy.copy(biomass_phi_transition_ECac)\n",
    "biomass_phi_transition_ECgl = cre.DReaction(None, cre.MichaelisMentenLinked(ex_glucose_ECac, lowerBound=0.,\n",
    "                                                                            maxVelocity=phi_transition_rate, hillCoeff=hctrans,\n",
    "                                                                            mmConstant=phi_transition_KM, linkedReaction=lrxn2, onThr=0., offset=phi0), True, isODE=True)"
   ]
  },
  {
   "cell_type": "markdown",
   "metadata": {
    "deletable": true,
    "editable": true
   },
   "source": [
    "### Initialize the DModel objects"
   ]
  },
  {
   "cell_type": "code",
   "execution_count": 23,
   "metadata": {
    "collapsed": false,
    "deletable": true,
    "editable": true
   },
   "outputs": [],
   "source": [
    "dyRxn_ECgl = {'glucose_exchange': glucose_exchange_ECgl, \n",
    "              'oxygen_exchange': oxygen_exchange_ECgl,\n",
    "              #'acetate_fed': acetate_fed_ECgl,\n",
    "              'acetate_exchange': acetate_exchange_ECgl,\n",
    "              'psi_transition': biomass_psi_transition_ECgl,\n",
    "              'phi_transition': biomass_phi_transition_ECgl,\n",
    "              'growth': growth_ECgl}\n",
    "dyMet_ECgl = {'biomass_ECgl': biomass_ECgl,\n",
    "              'ex_glucose': ex_glucose_ECgl,\n",
    "              'ex_acetate': ex_acetate_ECgl}\n",
    "\n",
    "model_ECgl = cmo.DynamicModel(dyRxn_ECgl, dyMet_ECgl, mpath, volExt, volUn, 'optlang-glpk', exitname+'_ECgl', savePath=outpath)\n",
    "\n",
    "dyRxn_ECac = {'glucose_exchange': glucose_exchange_ECac, \n",
    "              'oxygen_exchange': oxygen_exchange_ECac,\n",
    "              'acetate_fed': acetate_fed_ECac,\n",
    "              'acetate_exchange': acetate_exchange_ECac,\n",
    "              'psi_transition': biomass_psi_transition_ECac,\n",
    "              'phi_transition': biomass_phi_transition_ECac,\n",
    "              'growth': growth_ECac}\n",
    "dyMet_ECac = {'biomass_ECac': biomass_ECac,\n",
    "              'ex_glucose': ex_glucose_ECac,\n",
    "              'ex_acetate': ex_acetate_ECac}\n",
    "\n",
    "model_ECac = cmo.DynamicModel(dyRxn_ECac, dyMet_ECac, mpath, volExt, volUn, 'optlang-glpk', exitname+'_ECac', savePath=outpath)\n",
    "\n",
    "model_ECgl.loadSBMLModel()\n",
    "model_ECgl.resetObjective()\n",
    "model_ECgl.setObjective(growth_ECgl.modName, 1.)\n",
    "model_ECgl.constrainSources(element='C', count=0, uptakeOff=True)\n",
    "model_ECgl.initializeConcentrations()\n",
    "model_ECgl.setParsimoniousFBA(True)\n",
    "model_ECgl.setMinimalMaintenance(growth_ECgl.modName, -0.15)\n",
    "model_ECgl.setQuitOnFBAError(False)\n",
    "model_ECgl.setBoundsThreshold(0.8*vmaxexglc)\n",
    "model_ECgl.cbModel.reactions.get_by_id('ATPM').upper_bound = 8.39\n",
    "model_ECgl.cbModel.reactions.get_by_id('ATPM').lower_bound = 8.39\n",
    "    \n",
    "model_ECac.loadSBMLModel()\n",
    "model_ECac.resetObjective()\n",
    "model_ECac.setObjective(growth_ECac.modName, 1.)\n",
    "model_ECac.constrainSources(element='C', count=0, uptakeOff=True)\n",
    "model_ECac.initializeConcentrations()\n",
    "model_ECac.setParsimoniousFBA(True)\n",
    "model_ECac.setMinimalMaintenance(growth_ECac.modName, -0.15)\n",
    "model_ECac.setQuitOnFBAError(False)\n",
    "model_ECac.setBoundsThreshold(0.8*vmaxexace)\n",
    "model_ECac.cbModel.reactions.get_by_id('ATPM').upper_bound = 8.39\n",
    "model_ECac.cbModel.reactions.get_by_id('ATPM').lower_bound = 8.39\n",
    "    \n",
    "#if args.moma:\n",
    "#    model_ECgl.setMOMA(True)\n",
    "#    model_ECac.setMOMA(True)\n",
    "\n",
    "model_comm = cco.Consortium({'ECgl': model_ECgl, 'ECac': model_ECac},\n",
    "                            {'biomass_ECgl': ['ECgl'], \n",
    "                             'biomass_ECac': ['ECac'],\n",
    "                             'ex_glucose': ['ECgl', 'ECac'],\n",
    "                             'ex_acetate': ['ECgl', 'ECac']\n",
    "                            }, 'optlang-glpk', name=exitname+'_ECgl_ECac_'+strratioecgl, savePath=outpath)\n"
   ]
  },
  {
   "cell_type": "markdown",
   "metadata": {
    "deletable": true,
    "editable": true
   },
   "source": [
    "### Run the simulation\n",
    "\n",
    "The file is then stored"
   ]
  },
  {
   "cell_type": "code",
   "execution_count": 24,
   "metadata": {
    "collapsed": false,
    "deletable": true,
    "editable": true
   },
   "outputs": [
    {
     "name": "stdout",
     "output_type": "stream",
     "text": [
      "<<<>>> Simulation parameters: \n",
      "<<<>>> Exp condition: high acetate | low acetate | mixed acetate | fed low acetate | fed high acetate\n",
      "<<<>>> \t 0 | 0 | 0 | 1 | 0 \n",
      "<<<>>> BM0  \t ECgl \t ECac \t Glc0 \t Ac0 \t death rate\n",
      "<<<>>> 0.004 \t 0.950 \t 0.050 \t 0.450 \t 0.000 \t -0.030 \n",
      "<<<>>> VMGlc \t KMGlc \t VMAc \t KMAc \t XI \t ZETA\n",
      "<<<>>> 10.000 \t 0.010 \t 10.000 \t 0.010 \t 0.000 \t 1.000 \n",
      "<<<>>> PSI transition \n",
      "<<<>>> Psi0 \t VMpsi \t KMpsi \t epsilonpsi\n",
      "<<<>>> 0.040 \t 0.200 \t 30.000 \t 0.900 \n",
      "<<<>>> PHI transition\n",
      "<<<>>> Phi0 \t VMphi \t KMphi \t epsilonphi\n",
      "<<<>>> 0.040 \t 0.200 \t 5.000 \t 0.900 \n",
      "LP Solver called by pfba() raised an exception at T[0] = 0.00; not quitting yet\n",
      "No FBA Solution: status  error\n",
      "Continue without FBA: FBA error at T[0] = 0.00\n",
      "Resume FBA at T[22] = 0.17\n",
      "LP Solver called by pfba() raised an exception at T[1038] = 3.88; not quitting yet\n",
      "No FBA Solution: status  error\n",
      "Continue without FBA: FBA error at T[1038] = 3.88\n",
      "End of dFBA simulation, stopDFBA message:\n",
      "\tEverything OK\n",
      "\n",
      "\n",
      "*****\n",
      "\n",
      "Simulation done, file saved as outputs/notebook/endOfSimulation-ecoli_core-fedbatch_low_Ac-diauxic_shift_ECgl_ECac_0p95.p\n"
     ]
    }
   ],
   "source": [
    "\n",
    "print('<<<>>> Simulation parameters: ')\n",
    "print('<<<>>> Exp condition: high acetate | low acetate | mixed acetate | fed low acetate | fed high acetate')\n",
    "print('<<<>>> \\t %d | %d | %d | %d | %d ' % (runhighacetate, runlowacetate, runmixedacetate, runfedlowacetate, runfedhighacetate))\n",
    "print('<<<>>> BM0  \\t ECgl \\t ECac \\t Glc0 \\t Ac0 \\t death rate')\n",
    "print('<<<>>> %.3f \\t %.3f \\t %.3f \\t %.3f \\t %.3f \\t %.3f ' % (biomass0, pcECgl, (1-pcECgl), glucose0, acetate0, death_rate))\n",
    "print('<<<>>> VMGlc \\t KMGlc \\t VMAc \\t KMAc \\t XI \\t ZETA')\n",
    "print('<<<>>> %.3f \\t %.3f \\t %.3f \\t %.3f \\t %.3f \\t %.3f ' % (vmaxexglc, kmuptake, vmaxexace, kmuptake, fb, afb))\n",
    "print('<<<>>> PSI transition ')\n",
    "print('<<<>>> Psi0 \\t VMpsi \\t KMpsi \\t epsilonpsi')\n",
    "print('<<<>>> %.3f \\t %.3f \\t %.3f \\t %.3f ' % (psi0, psi_transition_rate, psi_transition_KM, transition_efficiency))\n",
    "print('<<<>>> PHI transition')\n",
    "print('<<<>>> Phi0 \\t VMphi \\t KMphi \\t epsilonphi')\n",
    "print('<<<>>> %.3f \\t %.3f \\t %.3f \\t %.3f ' % (phi0, phi_transition_rate, phi_transition_KM, transition_efficiency))\n",
    "\n",
    "model_comm.runConsortiumDynamicFBA(maxtime, 'vode', (0, 0.0, 1., 10000), verbose=False)\n",
    "\n",
    "fname=outpath+'endOfSimulation-'+exitname+'_ECgl_ECac_'+strratioecgl+'.p'\n",
    "print('\\n\\n*****\\n\\nSimulation done, file saved as %s' % fname)"
   ]
  },
  {
   "cell_type": "code",
   "execution_count": 25,
   "metadata": {
    "collapsed": true,
    "deletable": true,
    "editable": true
   },
   "outputs": [],
   "source": [
    "def plotVarma1994_twoEC(args, model, expcond, expcond2, tit):\n",
    "\n",
    "    n1, n2 = model.dmodelsKeys\n",
    "    \n",
    "    bmn1 = 'biomass_%s' % n1\n",
    "    bmn2 = 'biomass_%s' % n2\n",
    "\n",
    "    # LOAD DATA from Varma1994\n",
    "    fig = plt.figure()\n",
    "    gs = gridspec.GridSpec(2, 1)\n",
    "    # Top left\n",
    "    ax1 = fig.add_subplot(gs[0,0])\n",
    "    ax2 = fig.add_subplot(gs[1,0], sharex=ax1)\n",
    "    ax1.set_ylabel('Q [gDW]')\n",
    "    ax2.set_ylabel('C [mM]')\n",
    "    ax2.set_xlabel('Time [hours]')\n",
    "    if args.phitransition and args.psitransition:\n",
    "        tit=tit+', w/ transition'\n",
    "    else:\n",
    "        tit=tit+', w/o transition'\n",
    "    \n",
    "    if args.runvarmafedbatch:\n",
    "        dataAC=pandas.read_csv('../../ecoli/varma1994_data/varma10_ac.csv', sep=',',header=0)\n",
    "        dataBM=pandas.read_csv('../../ecoli/varma1994_data/varma10_bm.csv', sep=',',header=0)\n",
    "        dataGL=pandas.read_csv('../../ecoli/varma1994_data/varma10_gl.csv', sep=',',header=0)\n",
    "        fignum = '_fig10'\n",
    "    else:\n",
    "        dataAC=pandas.read_csv('../../ecoli/varma1994_data/varma7_ac.csv', sep=',',header=0)\n",
    "        dataBM=pandas.read_csv('../../ecoli/varma1994_data/varma7_bm.csv', sep=',',header=0)\n",
    "        dataGL=pandas.read_csv('../../ecoli/varma1994_data/varma7_gl.csv', sep=',',header=0)\n",
    "        fignum = '_fig7'\n",
    "    ax1.set_title(tit)\n",
    "    conctomM = 1000. if model.dmodels[n1].volumes.externalUnits == 'mL' else 1.\n",
    "\n",
    "    x = np.array(model.dmodels[n1].T)\n",
    "    x2=np.array(model.dmodels[n2].T)\n",
    "    ybm1 = np.array(model.dmodels[n1].dmetabolites[bmn1].quantity)\n",
    "    ygl1 = np.array(model.dmodels[n1].dmetabolites['ex_glucose'].concentration)*conctomM\n",
    "    yac1 = np.array(model.dmodels[n1].dmetabolites['ex_acetate'].concentration)*conctomM\n",
    "    #yam1 = np.array(model.dmodels[n1].dmetabolites['ex_ammonium'].quantity)\n",
    "    ybm2 = np.array(model.dmodels[n2].dmetabolites[bmn2].quantity)\n",
    "    yac2 = np.array(model.dmodels[n2].dmetabolites['ex_acetate'].concentration)*conctomM\n",
    "    ygl2 = np.array(model.dmodels[n2].dmetabolites['ex_glucose'].concentration)*conctomM\n",
    "    #yam2 = np.array(model.dmodels[n2].dmetabolites['ex_ammonium'].quantity)\n",
    "\n",
    "    ax1.plot(x, ybm1, '#2980b9', label=bmn1.replace('_', ' '))\n",
    "    ax1.plot(x, ybm2, '#16a085', label=bmn2.replace('_', ' '))\n",
    "    ax1.plot(x, ybm1+ybm2, 'k', label='biomass Tot')\n",
    "    #ax1.set_xlim(0., 1.)\n",
    "    ll = ax1.legend(loc='center right', prop={'size':10})\n",
    "    ax1.set_title(tit)\n",
    "    ax2.plot(x, ygl1, '#c0392b', label='Glucose')\n",
    "    ax2.plot(x, yac1, '#f39c12', label='Acetate')\n",
    "\n",
    "    ax1.plot(dataBM['x'], dataBM['Curve1']*volExt, 'bs', label='Biomass (exp)')\n",
    "    ax2.plot(dataGL['x'], dataGL['Curve1'], 'rs', label='Glucose (exp)')\n",
    "    ax2.plot(dataAC['x'], dataAC['Curve1'], '#f1c40f',  linestyle='None', marker='s', label='Acetate (exp)')\n",
    "\n",
    "    ll = ax1.legend(loc='best', prop={'size':10})\n",
    "    ll2 = ax2.legend(loc='best', prop={'size':10})\n",
    "    fig.savefig(args.pathout+'/varma1994_'+expcond2+fignum+'.png')\n",
    "    \n",
    "    return\n"
   ]
  },
  {
   "cell_type": "code",
   "execution_count": 33,
   "metadata": {
    "collapsed": false,
    "deletable": true,
    "editable": true
   },
   "outputs": [],
   "source": [
    "def plotEnjalbert2015_growth2EC(transitions, model, expcond, expcond2, tit):\n",
    "\n",
    "    n1, n2 = model.dmodelsKeys\n",
    "    \n",
    "    bmn1 = 'biomass_%s' % n1\n",
    "    bmn2 = 'biomass_%s' % n2\n",
    "\n",
    "    conctomM = 1000. if model.dmodels[n1].volumes.externalUnits == 'mL' else 1.\n",
    "\n",
    "    if transitions:\n",
    "        tit=tit+', w/ transition'\n",
    "    else:\n",
    "        tit=tit+', w/o transition'\n",
    "    \n",
    "    x = np.array(model.dmodels[n1].T)\n",
    "    x2=np.array(model.dmodels[n2].T)\n",
    "    ybm1 = np.array(model.dmodels[n1].dmetabolites[bmn1].quantity)\n",
    "    ygl1 = np.array(model.dmodels[n1].dmetabolites['ex_glucose'].concentration)*conctomM\n",
    "    yac1 = np.array(model.dmodels[n1].dmetabolites['ex_acetate'].concentration)*conctomM\n",
    "    #yam1 = np.array(model.dmodels[n1].dmetabolites['ex_ammonium'].quantity)\n",
    "    ybm2 = np.array(model.dmodels[n2].dmetabolites[bmn2].quantity)\n",
    "    yac2 = np.array(model.dmodels[n2].dmetabolites['ex_acetate'].concentration)*conctomM\n",
    "    ygl2 = np.array(model.dmodels[n2].dmetabolites['ex_glucose'].concentration)*conctomM\n",
    "    #yam2 = np.array(model.dmodels[n2].dmetabolites['ex_ammonium'].quantity)\n",
    "\n",
    "    fig = plt.figure()\n",
    "    gs = gridspec.GridSpec(2, 1)\n",
    "    # Top left\n",
    "    ax1 = fig.add_subplot(gs[0,0])\n",
    "    ax2 = fig.add_subplot(gs[1,0], sharex=ax1)\n",
    "    ax1.set_ylabel('Q [gDW]')\n",
    "    ax2.set_ylabel('C [mM]')\n",
    "    ax2.set_xlabel('Time [hours]')\n",
    "\n",
    "    ## COLORS http://htmlcolorcodes.com/color-chart/\n",
    "    ## blues: #2980b9 #3498db  #1abc9c #16a085\n",
    "    ## yellows: #f4d03f f5b041 eb984e  #dc7633 \n",
    "    ax1.plot(x, ybm1, '#2980b9', label=bmn1.replace('_', ' '))\n",
    "    ax1.plot(x, ybm2, '#16a085', label=bmn2.replace('_', ' '))\n",
    "    #ax1.set_xlim(0., 1.)\n",
    "    ll = ax1.legend(loc='center right', prop={'size':10})\n",
    "    ax1.set_title(tit)\n",
    "    ax2.plot(x, ygl1, '#c0392b', label='Glucose')\n",
    "    ax2.plot(x, yac1, '#f39c12', label='Acetate')\n",
    "    # ax2.plot(x, ygl1, '#3498db', label='Glucose 1')\n",
    "    # ax2.plot(x, yac1, '#1abc9c', label='Acetate 1')\n",
    "    # ax2.plot(x, ygl2, '#f5b041', label='Glucose 2')\n",
    "    # ax2.plot(x, yac2, '#eb984e', label='Acetate 2')\n",
    "    ax1.plot(x, ybm1+ybm2, 'k', label='biomass Tot')\n",
    "\n",
    "    fignum = ''\n",
    "    if expcond == \"batch_low_Glc\":\n",
    "        dataFIG=pandas.read_csv('ecoli/enjalbert2015_data/fig2_fromEnjalbert2015.csv', sep=',')\n",
    "        ax1.errorbar(dataFIG['Time'], dataFIG['OD 600nm']*ODtoGDW*volExt, yerr=dataFIG['OD SD']*ODtoGDW*volExt, fmt='bs', label='Biomass (exp)')\n",
    "        ax2.errorbar(dataFIG['Time'], dataFIG['Glucose mM'], yerr=dataFIG['Glucose SD'], fmt='rs', label='Glucose (exp)')\n",
    "        ax2.errorbar(dataFIG['Time'], dataFIG['Acetate mM'], yerr=dataFIG['Acetate SD'], label='Acetate (exp)', color='#f1c40f',  linestyle='None', marker='s')\n",
    "        fignum = '_fig2A'\n",
    "    elif expcond == \"fedbatch_low_Ac\":\n",
    "        dataFIG=pandas.read_csv('ecoli/enjalbert2015_data/fig6a_fromEnjalbert2015.csv', sep=',')\n",
    "        ax1.plot(dataFIG['Time'], dataFIG['OD 600nm']*ODtoGDW*volExt, 'bs', label='Biomass (exp)')\n",
    "        fignum = '_fig6A'\n",
    "    elif expcond == \"fedbatch_high_Ac\":\n",
    "        dataFIG=pandas.read_csv('ecoli/enjalbert2015_data/fig6b_fromEnjalbert2015_4h.csv', sep=',')\n",
    "        ax1.plot(dataFIG['Time'], dataFIG['OD 600nm']*ODtoGDW*volExt, 'bs', label='Biomass (exp)')\n",
    "        fignum = '_fig6C'\n",
    "    #ax.plot(x, ybm1, ':', label='BM1')\n",
    "    #ax.plot(x, ybm2, ':', label='BM2')\n",
    "    #ll = ax1.legend(loc='upper left', prop={'size':10})\n",
    "    #ll2 = ax2.legend(loc='upper left', prop={'size':10})\n",
    "    ll = ax1.legend(loc='best', prop={'size':10})\n",
    "    ll2 = ax2.legend(loc='best', prop={'size':10})\n",
    "    plt.setp(ax1.get_xticklabels(), visible=False)\n",
    "    fig.savefig('%s/enjalbert2015-%s-totBM%s.png' % (outpath, expcond2, fignum))\n",
    "\n",
    "    #f1.set_title('E. Coli core Aerobic '+expcond.capitalize())\n",
    "    #ll = f1.legend(loc='center left', prop={'size':10})\n",
    "    #ll = f1b.legend(loc='center right', prop={'size':10})\n",
    "    #fig1.savefig(args.pathout+'/enjalbert2015_'+expcond2+fignum+'.png')   \n",
    "    return"
   ]
  },
  {
   "cell_type": "code",
   "execution_count": 34,
   "metadata": {
    "collapsed": false,
    "deletable": true,
    "editable": true
   },
   "outputs": [
    {
     "name": "stdout",
     "output_type": "stream",
     "text": [
      "Loading simulation file outputs/notebook/endOfSimulation-ecoli_core-fedbatch_low_Ac-diauxic_shift_ECgl_ECac_0p95.p\n"
     ]
    }
   ],
   "source": [
    "print('Loading simulation file %s' % fname)\n",
    "model = cPickle.load(open(fname, 'r'))"
   ]
  },
  {
   "cell_type": "code",
   "execution_count": 35,
   "metadata": {
    "collapsed": false,
    "deletable": true,
    "editable": true
   },
   "outputs": [
    {
     "data": {
      "image/png": "[encoded data removed]",
      "text/plain": [
       "<matplotlib.figure.Figure at 0x7fbd6f03de90>"
      ]
     },
     "metadata": {},
     "output_type": "display_data"
    }
   ],
   "source": [
    "titlab = 'Initial biomass %.0f%% ECgl and %.0f%% ECac' % (pcECgl*100, (1-pcECgl)*100)\n",
    "plotEnjalbert2015_growth2EC(True, model, expcond, exitname, titlab)\n"
   ]
  },
  {
   "cell_type": "code",
   "execution_count": null,
   "metadata": {
    "collapsed": true,
    "deletable": true,
    "editable": true
   },
   "outputs": [],
   "source": []
  }
 ],
 "metadata": {
  "kernelspec": {
   "display_name": "notebook-ecoli-diauxie",
   "language": "python",
   "name": "notebook-ecoli-diauxie"
  },
  "language_info": {
   "codemirror_mode": {
    "name": "ipython",
    "version": 2
   },
   "file_extension": ".py",
   "mimetype": "text/x-python",
   "name": "python",
   "nbconvert_exporter": "python",
   "pygments_lexer": "ipython2",
   "version": "2.7.13"
  }
 },
 "nbformat": 4,
 "nbformat_minor": 2
}
