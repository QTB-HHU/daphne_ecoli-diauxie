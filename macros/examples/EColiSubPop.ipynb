{
 "cells": [
  {
   "cell_type": "markdown",
   "metadata": {
    "deletable": true,
    "editable": true
   },
   "source": [
    "# Simulating communities of *E. coli* with the dFBA+ODE framework\n",
    "\n",
    "This Jupyter notebook illustrates how to use the framework provided [here](https://github.com/QTB-HHU/dfba-ode-framework_ecoli-diauxie) to simulate a community of *E. coli* subpopulations growing on different carbon sources.\n",
    "\n",
    "For more details please refer to the [main publication (preprint)](https://www.biorxiv.org/content/early/2018/04/26/291492) and to the [software metapaper (in preparation)](NA).\n",
    "\n",
    "## The ecDiauxie macro\n",
    "\n",
    "The framework provides an Object Oriented infrastructure to interface communities of metabolic network models with ordinary differential equations. All the variables in the ecDiauxie.py macro can be set via command line. In this notebook we will focus on the construction of the model and will only use the relevant parts of the code. \n",
    "\n",
    "### Load modules\n",
    "   "
   ]
  },
  {
   "cell_type": "code",
   "execution_count": 37,
   "metadata": {
    "collapsed": false,
    "deletable": true,
    "editable": true
   },
   "outputs": [],
   "source": [
    "import sys\n",
    "sys.path.append('../../code/python/') \n",
    "import classModel as cmo\n",
    "import classReaction as cre\n",
    "import classMetabolite as cme\n",
    "import classConsortium as cco\n",
    "import classPlotter as plotter\n",
    "import classConvertionFactors as ccf\n",
    "import cobra\n",
    "import pandas\n",
    "from cobra.flux_analysis import parsimonious\n",
    "import numpy as np\n",
    "import matplotlib.pyplot as plt\n",
    "import argparse\n",
    "import plstyles\n",
    "import random\n",
    "import cPickle\n",
    "import json\n",
    "import copy\n",
    "from matplotlib import gridspec"
   ]
  },
  {
   "cell_type": "markdown",
   "metadata": {
    "deletable": true,
    "editable": true
   },
   "source": [
    "### Variables setting\n",
    "\n",
    "These are the values used for the simulation of Figure 4."
   ]
  },
  {
   "cell_type": "code",
   "execution_count": 8,
   "metadata": {
    "collapsed": false,
    "deletable": true,
    "editable": true
   },
   "outputs": [],
   "source": [
    "expcondLabels = {'batch_high_Ac': 'grown on 45 mM Ac',\n",
    "                 'batch_low_Ac': 'grown on 4 mM Ac',\n",
    "                 'batch_mixed_Ac': 'grown on 15 mM Glc, 32 mM Ac',\n",
    "                 'batch_low_Glc': 'grown on 15 mM Glc',\n",
    "                 'fedbatch_low_Ac': 'grown on 15 mM Glc, fed 4 mM Ac',\n",
    "                 'fedbatch_high_Ac': 'grown on 15 mM Glc, fed 32 mM Ac'}\n",
    "\n",
    "# http://bigg.ucsd.edu/models/e_coli_core\n",
    "ODtoGDW=0.33\n",
    "volExt = 0.03\n",
    "volUn = 'L'\n",
    "\n",
    "maxtime = 10.5\n",
    "biomass0 = 0.0038\n",
    "mpath = '../../ecoli/bigg/e_coli_core.xml'\n",
    "\n",
    "label='diauxic_shift'\n",
    "ename = 'ecoli core'\n",
    "exitname = '%s-%s-%s' % (ename, expcond, label) \n",
    "        \n",
    "bmf = 'BIOMASS_Ecoli_core_w_GAM'\n",
    "rxnnames = {'EX_glc_e':'EX_glc__D_e', \n",
    "            'EX_o2_e': 'EX_o2_e',\n",
    "            'EX_ac_e':'EX_ac_e'}\n",
    "\n",
    "#biomass dilution rate in chemostat, 1/hr\n",
    "ch = 0. \n",
    "\n",
    "death_rate = -0.03\n",
    "\n",
    "thrPc = 0.99999\n",
    "pcECgl = 0.95\n",
    "strratioecgl = (\"%.2f\" % pcECgl).replace('.','p')\n",
    "if pcECgl > thrPc:\n",
    "    pcECgl = thrPc\n",
    "if pcECgl < (1 - thrPc):\n",
    "    pcECgl = 1 - thrPc"
   ]
  },
  {
   "cell_type": "markdown",
   "metadata": {
    "deletable": true,
    "editable": true
   },
   "source": [
    "### Set the Carbon initial conditions\n",
    "\n",
    "Either do custom settings or set one of the experimental conditions to True."
   ]
  },
  {
   "cell_type": "code",
   "execution_count": 9,
   "metadata": {
    "collapsed": false,
    "deletable": true,
    "editable": true
   },
   "outputs": [
    {
     "name": "stdout",
     "output_type": "stream",
     "text": [
      "Simulating Batch Growth on 15mM Glucose and constant 4mM Acetate as in Enjalbert2015\n"
     ]
    }
   ],
   "source": [
    "expcond = 'batch_low_Glc'\n",
    "glucose0 = 15.0 #mM\n",
    "acetate0 = 0.0 #mM\n",
    "fb=0.\n",
    "afb=0.\n",
    "ac_thr = 0.0\n",
    "t_glc = 0.0\n",
    "\n",
    "runhighacetate = runlowacetate = runbatchglc = runmixedacetate = runfedlowacetate = runfedhighacetate = runvarmabatch = runvarmafedbatch =False\n",
    "runfedlowacetate = True\n",
    "\n",
    "if runhighacetate:\n",
    "    print('Simulating Batch Growth on 45mM Acetate as in Enjalbert2015')\n",
    "    expcond = 'batch_high_Ac'\n",
    "    glucose0 = 0.0\n",
    "    acetate0 = 45.0\n",
    "elif runlowacetate:\n",
    "    print('Simulating Batch Growth on 4mM Acetate as in Enjalbert2015')\n",
    "    expcond = 'batch_low_Ac'\n",
    "    glucose0 = 0.0\n",
    "    acetate0 = 4.0\n",
    "elif runbatchglc:\n",
    "    print('Simulating Batch Growth on 15mM Glucose as in Enjalbert2015')\n",
    "    expcond = 'batch_low_Glc'\n",
    "    glucose0 = 15.0 #mM\n",
    "    acetate0 = 0.0 #mM\n",
    "    fb=0.\n",
    "    afb=0.\n",
    "elif runmixedacetate:\n",
    "    print('Simulating Batch Growth on 15mM Glucose 32mM Acetate as in Enjalbert2015')\n",
    "    expcond = 'batch_mixed_Ac'\n",
    "    glucose0 = 15.0\n",
    "    acetate0 = 32.0\n",
    "elif runfedlowacetate:\n",
    "    print('Simulating Batch Growth on 15mM Glucose and constant 4mM Acetate as in Enjalbert2015')\n",
    "    expcond = 'fedbatch_low_Ac'\n",
    "    glucose0 = 15.0\n",
    "    acetate0 = 0.0\n",
    "    afb=1.0\n",
    "    ac_thr = 4.0\n",
    "    t_glc = 4.0\n",
    "elif runfedhighacetate:\n",
    "    print('Simulating Batch Growth on 15mM Glucose and constant 32mM Acetate as in Enjalbert2015')\n",
    "    expcond = 'fedbatch_high_Ac'\n",
    "    glucose0 = 15.0\n",
    "    acetate0 = 32.0\n",
    "    afb=1.0\n",
    "    ac_thr = 32.0\n",
    "    t_glc = 4.0\n",
    "elif runvarmabatch:\n",
    "    print('Simulating Batch Growth on Glucose as in Varma1994 Fig.7')\n",
    "    expcond = 'varma_batch'\n",
    "    glucose0 = 10.8\n",
    "    acetate0 = 0.4\n",
    "elif runvarmafedbatch:\n",
    "    print('Simulating Fed Batch Growth on Glucose as in Varma1994 Fig.10')\n",
    "    expcond = 'varma_fedbatch'\n",
    "    glucose0 = 0.82\n",
    "    acetate0 = 0.1\n",
    "    #glucose is continuously provided\n",
    "    #0.2 g/(L*hr)\n",
    "    #1 g = 5.5 mmol\n",
    "    #dGLC/dt = ... + fb ==> units = mmol/hr\n",
    "    fb = 5.5*0.2*volExt #mmol/hr\n",
    "else:\n",
    "    print('Simulating custom conditions')\n",
    "\n",
    "\n",
    "## biomass0 is already gDW\n",
    "## glucose0 and acetate0 are concentrations (mM)\n",
    "## dMetabolites are initialized with quantities (mmol)\n",
    "acetate0 = volExt*acetate0 # mM*L = mmol\n",
    "glucose0 = volExt*glucose0 # mM*L = mmol"
   ]
  },
  {
   "cell_type": "markdown",
   "metadata": {
    "deletable": true,
    "editable": true
   },
   "source": [
    "### Set the flux constraints\n",
    "\n",
    "These values are either taken from literature or calibrated on the data from Varma and Palsson 1994."
   ]
  },
  {
   "cell_type": "code",
   "execution_count": 7,
   "metadata": {
    "collapsed": true,
    "deletable": true,
    "editable": true
   },
   "outputs": [],
   "source": [
    "## Uptake parameters\n",
    "## Uptake Vmax 10 mmol/g/hr (Gosset, 2005)\n",
    "## Uptake Km 10 muM = 0.01 mM (Gosset, 2005)\n",
    "vmaxexglc = 10. #mmol/g/hr\n",
    "vmaxexace = 10. #mmol/g/hr\n",
    "kmuptake = 0.01 #mM\n",
    "## Parametrized with Varma 1994\n",
    "vminoxygen = 11.5\n",
    "ubexace = 3.0"
   ]
  },
  {
   "cell_type": "markdown",
   "metadata": {
    "deletable": true,
    "editable": true
   },
   "source": [
    "## Build the two *E. coli* models\n",
    "\n",
    "Define two DModels. "
   ]
  },
  {
   "cell_type": "code",
   "execution_count": 11,
   "metadata": {
    "collapsed": true,
    "deletable": true,
    "editable": true
   },
   "outputs": [],
   "source": [
    "## DMetabolite and DReaction instances for \n",
    "## ECgl \n",
    "## i.e. the Glucose consuming population\n",
    "\n",
    "biomass_ECgl = cme.Biomass([biomass0*pcECgl], {'growth': [(1, 'biomass_ECgl')], 'dilution': [(ch, None)], 'death': [(death_rate, 'biomass_ECgl')],\n",
    "                                               'psi_transition': [(-1., 'biomass_ECgl')], 'phi_transition': [(transition_efficiency, 'biomass_ECac')]})\n",
    "ex_glucose_ECgl = cme.DMetabolite('glc_D_e', [glucose0], False, {'glucose_exchange': [(1, 'biomass_ECgl')], 'glucose_fed': [(fb, None)] })\n",
    "ex_acetate_ECgl = cme.DMetabolite('ac_e', [acetate0], False, {'acetate_exchange': [(1, 'biomass_ECgl')]})#, 'acetate_fed': [(afb, None)]})\n",
    "    \n",
    "oxygen_exchange_ECgl = cre.DReaction(rxnnames['EX_o2_e'], cre.FixedBound(vminoxygen, 0), False)\n",
    "### Ac secretion but no uptake\n",
    "acetate_exchange_ECgl = cre.DReaction(rxnnames['EX_ac_e'], cre.FixedBound(0., ubexace), True)\n",
    "\n",
    "glucose_exchange_ECgl = cre.DReaction(rxnnames['EX_glc_e'], cre.MichaelisMenten1(ex_glucose_ECgl, 1, vmaxexglc, kmuptake, 1, upperBound=15.), False)\n",
    "growth_ECgl = cre.DReaction(bmf, cre.FixedBound(0., 1000.))\n",
    "\n",
    "## DMetabolite and DReaction instances for \n",
    "## ECac \n",
    "## i.e. the Acetate consuming population\n",
    "\n",
    "biomass_ECac = cme.Biomass([biomass0*(1-pcECgl)], {'growth': [(1, 'biomass_ECac')], 'dilution': [(ch, None)], 'death': [(death_rate, 'biomass_ECac')],\n",
    "                                                   'psi_transition': [(transition_efficiency, 'biomass_ECgl')], 'phi_transition': [(-1., 'biomass_ECac')]})\n",
    "ex_glucose_ECac = cme.DMetabolite('glc_D_e', [glucose0], False, {'glucose_exchange': [(1, 'biomass_ECac')] })\n",
    "ex_acetate_ECac = cme.DMetabolite('ac_e', [acetate0], False, {'acetate_exchange': [(1, 'biomass_ECac')], 'acetate_fed': [(afb, 'biomass_ECac')]})\n",
    "    \n",
    "oxygen_exchange_ECac = cre.DReaction(rxnnames['EX_o2_e'], cre.FixedBound(vminoxygen, 0), False)\n",
    "acetate_exchange_ECac = cre.DReaction(rxnnames['EX_ac_e'], cre.MichaelisMenten1(ex_acetate_ECac, 1, vmaxexace, kmuptake, 1, upperBound=ubexace), False)\n",
    "### EX_glc off\n",
    "glucose_exchange_ECac = cre.DReaction(rxnnames['EX_glc_e'], cre.FixedBound(0.,0.), False)\n",
    "growth_ECac = cre.DReaction(bmf, cre.FixedBound(0., 1000.))\n",
    "\n",
    "acetate_fed_ECac = cre.DReaction(None, cre.SquareWave(9.1, 20, 1, t_glc), True, isODE=True)\n"
   ]
  },
  {
   "cell_type": "markdown",
   "metadata": {
    "deletable": true,
    "editable": true
   },
   "source": [
    "### Transition functions\n",
    "\n",
    "Comment/uncomment the parameters based on how you want to implement the transitions."
   ]
  },
  {
   "cell_type": "code",
   "execution_count": 12,
   "metadata": {
    "collapsed": true,
    "deletable": true,
    "editable": true
   },
   "outputs": [],
   "source": [
    "transition_efficiency = 0.9\n",
    "\n",
    "# No transition\n",
    "#psi0 = 0.\n",
    "#psi_transition_rate = 0.\n",
    "#psi_transition_KM = 0.\n",
    "#phi0 = 0.\n",
    "#phi_transition_rate = 0.\n",
    "#phi_transition_KM = 0.\n",
    "\n",
    "# Noise transition\n",
    "#psi0 = 0.04\n",
    "#phi0 = 0.04\n",
    "#psi_transition_rate = 0.\n",
    "#psi_transition_KM = 0.\n",
    "#phi_transition_rate = 0.\n",
    "#phi_transition_KM = 0.\n",
    "\n",
    "# Concentration dependent transition\n",
    "psi0 = 0.04\n",
    "phi0 = 0.04\n",
    "psi_transition_rate = 0.2\n",
    "phi_transition_rate = 0.2\n",
    "psi_transition_KM = 30.0\n",
    "phi_transition_KM = 5.0\n",
    "lrxn = None\n",
    "lrxn2 = None\n",
    "\n",
    "\n",
    "hctrans = 5\n",
    "\n",
    "## phi = Glc -> Ac ##\n",
    "## ECglc senses Ac and transitions\n",
    "biomass_psi_transition_ECgl = cre.DReaction(None, cre.MichaelisMentenLinked(ex_acetate_ECgl, lowerBound=0.,\n",
    "                                                                            maxVelocity=psi_transition_rate, hillCoeff=hctrans,\n",
    "                                                                            mmConstant=psi_transition_KM, linkedReaction=lrxn, onThr=0., offset=psi0), True, isODE=True)\n",
    "# Need a copy to avoid duplicate entries; TODO: add option for class model to not update object dMetabolite/dReaction\n",
    "#biomass_psi_transition_ECac = copy.copy(biomass_psi_transition_ECgl)\n",
    "biomass_psi_transition_ECac = cre.DReaction(None, cre.MichaelisMentenLinked(ex_acetate_ECgl, lowerBound=0.,\n",
    "                                                                            maxVelocity=psi_transition_rate, hillCoeff=hctrans,\n",
    "                                                                            mmConstant=psi_transition_KM, linkedReaction=lrxn, onThr=0., offset=psi0), True, isODE=True)\n",
    "\n",
    "## phi = Ac -> Glc ##\n",
    "## ECac senses Glc and transitions\n",
    "biomass_phi_transition_ECac = cre.DReaction(None, cre.MichaelisMentenLinked(ex_glucose_ECac, lowerBound=0.,\n",
    "                                                                            maxVelocity=phi_transition_rate, hillCoeff=hctrans,\n",
    "                                                                            mmConstant=phi_transition_KM, linkedReaction=lrxn2, onThr=0., offset=phi0), True, isODE=True)\n",
    "# Need a copy to avoid duplicate entries; TODO: add option for class model to not update object dMetabolite/dReaction\n",
    "#biomass_phi_transition_ECgl = copy.copy(biomass_phi_transition_ECac)\n",
    "biomass_phi_transition_ECgl = cre.DReaction(None, cre.MichaelisMentenLinked(ex_glucose_ECac, lowerBound=0.,\n",
    "                                                                            maxVelocity=phi_transition_rate, hillCoeff=hctrans,\n",
    "                                                                            mmConstant=phi_transition_KM, linkedReaction=lrxn2, onThr=0., offset=phi0), True, isODE=True)"
   ]
  },
  {
   "cell_type": "markdown",
   "metadata": {
    "deletable": true,
    "editable": true
   },
   "source": [
    "### Initialize the DModel objects"
   ]
  },
  {
   "cell_type": "code",
   "execution_count": 14,
   "metadata": {
    "collapsed": false,
    "deletable": true,
    "editable": true
   },
   "outputs": [],
   "source": [
    "dyRxn_ECgl = {'glucose_exchange': glucose_exchange_ECgl, \n",
    "              'oxygen_exchange': oxygen_exchange_ECgl,\n",
    "              #'acetate_fed': acetate_fed_ECgl,\n",
    "              'acetate_exchange': acetate_exchange_ECgl,\n",
    "              'psi_transition': biomass_psi_transition_ECgl,\n",
    "              'phi_transition': biomass_phi_transition_ECgl,\n",
    "              'growth': growth_ECgl}\n",
    "dyMet_ECgl = {'biomass_ECgl': biomass_ECgl,\n",
    "              'ex_glucose': ex_glucose_ECgl,\n",
    "              'ex_acetate': ex_acetate_ECgl}\n",
    "\n",
    "model_ECgl = cmo.DynamicModel(dyRxn_ECgl, dyMet_ECgl, mpath, volExt, volUn, 'optlang-glpk', exitname+'_ECgl', savePath='./')\n",
    "\n",
    "dyRxn_ECac = {'glucose_exchange': glucose_exchange_ECac, \n",
    "              'oxygen_exchange': oxygen_exchange_ECac,\n",
    "              'acetate_fed': acetate_fed_ECac,\n",
    "              'acetate_exchange': acetate_exchange_ECac,\n",
    "              'psi_transition': biomass_psi_transition_ECac,\n",
    "              'phi_transition': biomass_phi_transition_ECac,\n",
    "              'growth': growth_ECac}\n",
    "dyMet_ECac = {'biomass_ECac': biomass_ECac,\n",
    "              'ex_glucose': ex_glucose_ECac,\n",
    "              'ex_acetate': ex_acetate_ECac}\n",
    "\n",
    "model_ECac = cmo.DynamicModel(dyRxn_ECac, dyMet_ECac, mpath, volExt, volUn, 'optlang-glpk', exitname+'_ECac', savePath='./')\n",
    "\n",
    "model_ECgl.loadSBMLModel()\n",
    "model_ECgl.resetObjective()\n",
    "model_ECgl.setObjective(growth_ECgl.modName, 1.)\n",
    "model_ECgl.constrainSources(element='C', count=0, uptakeOff=True)\n",
    "model_ECgl.initializeConcentrations()\n",
    "model_ECgl.setParsimoniousFBA(True)\n",
    "model_ECgl.setMinimalMaintenance(growth_ECgl.modName, -0.15)\n",
    "model_ECgl.setQuitOnFBAError(False)\n",
    "model_ECgl.setBoundsThreshold(0.8*vmaxexglc)\n",
    "model_ECgl.cbModel.reactions.get_by_id('ATPM').upper_bound = 8.39\n",
    "model_ECgl.cbModel.reactions.get_by_id('ATPM').lower_bound = 8.39\n",
    "    \n",
    "model_ECac.loadSBMLModel()\n",
    "model_ECac.resetObjective()\n",
    "model_ECac.setObjective(growth_ECac.modName, 1.)\n",
    "model_ECac.constrainSources(element='C', count=0, uptakeOff=True)\n",
    "model_ECac.initializeConcentrations()\n",
    "model_ECac.setParsimoniousFBA(True)\n",
    "model_ECac.setMinimalMaintenance(growth_ECac.modName, -0.15)\n",
    "model_ECac.setQuitOnFBAError(False)\n",
    "model_ECac.setBoundsThreshold(0.8*vmaxexace)\n",
    "model_ECac.cbModel.reactions.get_by_id('ATPM').upper_bound = 8.39\n",
    "model_ECac.cbModel.reactions.get_by_id('ATPM').lower_bound = 8.39\n",
    "    \n",
    "#if args.moma:\n",
    "#    model_ECgl.setMOMA(True)\n",
    "#    model_ECac.setMOMA(True)\n",
    "\n",
    "model_comm = cco.Consortium({'ECgl': model_ECgl, 'ECac': model_ECac},\n",
    "                            {'biomass_ECgl': ['ECgl'], \n",
    "                             'biomass_ECac': ['ECac'],\n",
    "                             'ex_glucose': ['ECgl', 'ECac'],\n",
    "                             'ex_acetate': ['ECgl', 'ECac']\n",
    "                            }, 'optlang-glpk', name=exitname+'_ECgl_ECac_'+strratioecgl, savePath='./')\n"
   ]
  },
  {
   "cell_type": "markdown",
   "metadata": {
    "deletable": true,
    "editable": true
   },
   "source": [
    "### Run the simulation\n",
    "\n",
    "The file is then stored"
   ]
  },
  {
   "cell_type": "code",
   "execution_count": 20,
   "metadata": {
    "collapsed": false,
    "deletable": true,
    "editable": true
   },
   "outputs": [
    {
     "name": "stdout",
     "output_type": "stream",
     "text": [
      "<<<>>> Simulation parameters: \n",
      "<<<>>> Exp condition: high acetate | low acetate | mixed acetate | fed low acetate | fed high acetate\n",
      "<<<>>> \t 0 | 0 | 0 | 1 | 0 \n",
      "<<<>>> BM0  \t ECgl \t ECac \t Glc0 \t Ac0 \t death rate\n",
      "<<<>>> 0.004 \t 0.950 \t 0.050 \t 0.450 \t 0.000 \t -0.030 \n",
      "<<<>>> VMGlc \t KMGlc \t VMAc \t KMAc \t XI \t ZETA\n",
      "<<<>>> 10.000 \t 0.010 \t 10.000 \t 0.010 \t 0.000 \t 1.000 \n",
      "<<<>>> PSI transition \n",
      "<<<>>> Psi0 \t VMpsi \t KMpsi \t epsilonpsi\n",
      "<<<>>> 0.040 \t 0.200 \t 30.000 \t 0.900 \n",
      "<<<>>> PHI transition\n",
      "<<<>>> Phi0 \t VMphi \t KMphi \t epsilonphi\n",
      "<<<>>> 0.040 \t 0.200 \t 5.000 \t 0.900 \n",
      "\n",
      "\n",
      "*****\n",
      "\n",
      "Simulation done, file saved as ./ecoli core-fedbatch_low_Ac-diauxic_shift_ECgl_ECac_0p95\n"
     ]
    }
   ],
   "source": [
    "\n",
    "print('<<<>>> Simulation parameters: ')\n",
    "print('<<<>>> Exp condition: high acetate | low acetate | mixed acetate | fed low acetate | fed high acetate')\n",
    "print('<<<>>> \\t %d | %d | %d | %d | %d ' % (runhighacetate, runlowacetate, runmixedacetate, runfedlowacetate, runfedhighacetate))\n",
    "print('<<<>>> BM0  \\t ECgl \\t ECac \\t Glc0 \\t Ac0 \\t death rate')\n",
    "print('<<<>>> %.3f \\t %.3f \\t %.3f \\t %.3f \\t %.3f \\t %.3f ' % (biomass0, pcECgl, (1-pcECgl), glucose0, acetate0, death_rate))\n",
    "print('<<<>>> VMGlc \\t KMGlc \\t VMAc \\t KMAc \\t XI \\t ZETA')\n",
    "print('<<<>>> %.3f \\t %.3f \\t %.3f \\t %.3f \\t %.3f \\t %.3f ' % (vmaxexglc, kmuptake, vmaxexace, kmuptake, fb, afb))\n",
    "print('<<<>>> PSI transition ')\n",
    "print('<<<>>> Psi0 \\t VMpsi \\t KMpsi \\t epsilonpsi')\n",
    "print('<<<>>> %.3f \\t %.3f \\t %.3f \\t %.3f ' % (psi0, psi_transition_rate, psi_transition_KM, transition_efficiency))\n",
    "print('<<<>>> PHI transition')\n",
    "print('<<<>>> Phi0 \\t VMphi \\t KMphi \\t epsilonphi')\n",
    "print('<<<>>> %.3f \\t %.3f \\t %.3f \\t %.3f ' % (phi0, phi_transition_rate, phi_transition_KM, transition_efficiency))\n",
    "\n",
    "model_comm.runConsortiumDynamicFBA(maxtime, 'vode', (0, 0.0, 1., 10000), verbose=False)\n",
    "\n",
    "fname='./'+exitname+'_ECgl_ECac_'+strratioecgl\n",
    "print('\\n\\n*****\\n\\nSimulation done, file saved as %s' % fname)"
   ]
  },
  {
   "cell_type": "code",
   "execution_count": null,
   "metadata": {
    "collapsed": true,
    "deletable": true,
    "editable": true
   },
   "outputs": [],
   "source": []
  },
  {
   "cell_type": "code",
   "execution_count": 39,
   "metadata": {
    "collapsed": true
   },
   "outputs": [],
   "source": [
    "%run plot_functions.py"
   ]
  },
  {
   "cell_type": "code",
   "execution_count": 40,
   "metadata": {
    "collapsed": false,
    "deletable": true,
    "editable": true
   },
   "outputs": [
    {
     "ename": "NameError",
     "evalue": "global name 'plt' is not defined",
     "output_type": "error",
     "traceback": [
      "\u001b[0;31m---------------------------------------------------------------------------\u001b[0m",
      "\u001b[0;31mNameError\u001b[0m                                 Traceback (most recent call last)",
      "\u001b[0;32m<ipython-input-40-ba8075de6e14>\u001b[0m in \u001b[0;36m<module>\u001b[0;34m()\u001b[0m\n\u001b[1;32m      1\u001b[0m \u001b[0mtitlab\u001b[0m \u001b[0;34m=\u001b[0m \u001b[0;34m'Initial biomass %.0f%% ECgl and %.0f%% ECac'\u001b[0m \u001b[0;34m%\u001b[0m \u001b[0;34m(\u001b[0m\u001b[0mpcECgl\u001b[0m\u001b[0;34m*\u001b[0m\u001b[0;36m100\u001b[0m\u001b[0;34m,\u001b[0m \u001b[0;34m(\u001b[0m\u001b[0;36m1\u001b[0m\u001b[0;34m-\u001b[0m\u001b[0mpcECgl\u001b[0m\u001b[0;34m)\u001b[0m\u001b[0;34m*\u001b[0m\u001b[0;36m100\u001b[0m\u001b[0;34m)\u001b[0m\u001b[0;34m\u001b[0m\u001b[0m\n\u001b[0;32m----> 2\u001b[0;31m \u001b[0mplotEnjalbert2015_growth2EC\u001b[0m\u001b[0;34m(\u001b[0m\u001b[0mTrue\u001b[0m\u001b[0;34m,\u001b[0m \u001b[0mmodel_comm\u001b[0m\u001b[0;34m,\u001b[0m \u001b[0mexitname\u001b[0m\u001b[0;34m[\u001b[0m\u001b[0;36m2\u001b[0m\u001b[0;34m]\u001b[0m\u001b[0;34m,\u001b[0m \u001b[0;34m'-'\u001b[0m\u001b[0;34m.\u001b[0m\u001b[0mjoin\u001b[0m\u001b[0;34m(\u001b[0m\u001b[0mexitname\u001b[0m\u001b[0;34m[\u001b[0m\u001b[0;36m1\u001b[0m\u001b[0;34m:\u001b[0m\u001b[0;34m]\u001b[0m\u001b[0;34m)\u001b[0m\u001b[0;34m,\u001b[0m \u001b[0mtitlab\u001b[0m\u001b[0;34m)\u001b[0m\u001b[0;34m\u001b[0m\u001b[0m\n\u001b[0m",
      "\u001b[0;32m/home/succurro/repositories/publicgithub/dfba-ode-framework_ecoli-diauxie/macros/examples/plot_functions.py\u001b[0m in \u001b[0;36mplotEnjalbert2015_growth2EC\u001b[0;34m(transitions, model, expcond, expcond2, tit)\u001b[0m\n\u001b[1;32m     89\u001b[0m     \u001b[0;31m#yam2 = np.array(model.dmodels[n2].dmetabolites['ex_ammonium'].quantity)\u001b[0m\u001b[0;34m\u001b[0m\u001b[0;34m\u001b[0m\u001b[0m\n\u001b[1;32m     90\u001b[0m \u001b[0;34m\u001b[0m\u001b[0m\n\u001b[0;32m---> 91\u001b[0;31m     \u001b[0mfig\u001b[0m \u001b[0;34m=\u001b[0m \u001b[0mplt\u001b[0m\u001b[0;34m.\u001b[0m\u001b[0mfigure\u001b[0m\u001b[0;34m(\u001b[0m\u001b[0;34m)\u001b[0m\u001b[0;34m\u001b[0m\u001b[0m\n\u001b[0m\u001b[1;32m     92\u001b[0m     \u001b[0mgs\u001b[0m \u001b[0;34m=\u001b[0m \u001b[0mgridspec\u001b[0m\u001b[0;34m.\u001b[0m\u001b[0mGridSpec\u001b[0m\u001b[0;34m(\u001b[0m\u001b[0;36m2\u001b[0m\u001b[0;34m,\u001b[0m \u001b[0;36m1\u001b[0m\u001b[0;34m)\u001b[0m\u001b[0;34m\u001b[0m\u001b[0m\n\u001b[1;32m     93\u001b[0m     \u001b[0;31m# Top left\u001b[0m\u001b[0;34m\u001b[0m\u001b[0;34m\u001b[0m\u001b[0m\n",
      "\u001b[0;31mNameError\u001b[0m: global name 'plt' is not defined"
     ]
    }
   ],
   "source": [
    "titlab = 'Initial biomass %.0f%% ECgl and %.0f%% ECac' % (pcECgl*100, (1-pcECgl)*100)\n",
    "plotEnjalbert2015_growth2EC(True, model_comm, exitname[2], '-'.join(exitname[1:]), titlab)"
   ]
  },
  {
   "cell_type": "code",
   "execution_count": null,
   "metadata": {
    "collapsed": true,
    "deletable": true,
    "editable": true
   },
   "outputs": [],
   "source": []
  }
 ],
 "metadata": {
  "kernelspec": {
   "display_name": "notebook-ecoli-diauxie",
   "language": "python",
   "name": "notebook-ecoli-diauxie"
  },
  "language_info": {
   "codemirror_mode": {
    "name": "ipython",
    "version": 2
   },
   "file_extension": ".py",
   "mimetype": "text/x-python",
   "name": "python",
   "nbconvert_exporter": "python",
   "pygments_lexer": "ipython2",
   "version": "2.7.13"
  }
 },
 "nbformat": 4,
 "nbformat_minor": 2
}
