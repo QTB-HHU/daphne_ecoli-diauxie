{
 "cells": [
  {
   "cell_type": "markdown",
   "metadata": {},
   "source": [
    "# Single population *E. coli* model\n",
    "\n",
    "In this first example, we will build a monoculture, single population dynamic model of *E. coli* and run the dynamic FBA simulation on different environmental conditions.\n",
    "\n",
    "First, make sure that the notebook kernel activated uses the daphnePy2 conda environment. \n",
    "\n",
    "We start by setting the path of the working dir and load the relevant packages."
   ]
  },
  {
   "cell_type": "code",
   "execution_count": 2,
   "metadata": {},
   "outputs": [
    {
     "name": "stdout",
     "output_type": "stream",
     "text": [
      "The autoreload extension is already loaded. To reload it, use:\n",
      "  %reload_ext autoreload\n"
     ]
    }
   ],
   "source": [
    "%load_ext autoreload\n",
    "%autoreload 2\n",
    "\n",
    "# Change the absolute path of your daphne folder\n",
    "\n",
    "DAPHNEPATH='/home/succurro/repositories/gitlab/daphne/'"
   ]
  },
  {
   "cell_type": "code",
   "execution_count": null,
   "metadata": {},
   "outputs": [],
   "source": [
    "# Load all the needed modules\n",
    "import sys\n",
    "sys.path.append(DAPHNEPATH+'code/python/')\n",
    "import classModel as cmo\n",
    "import classReaction as cre\n",
    "import classMetabolite as cme\n",
    "import classConsortium as cco\n",
    "import classPlotter as plotter\n",
    "import classConvertionFactors as ccf\n",
    "import cobra\n",
    "import pandas\n",
    "from cobra.flux_analysis import parsimonious\n",
    "import numpy as np\n",
    "import matplotlib.pyplot as plt\n",
    "import argparse\n",
    "import plstyles\n",
    "import random\n",
    "import cPickle\n",
    "import json\n",
    "import copy\n",
    "from matplotlib import gridspec\n"
   ]
  },
  {
   "cell_type": "markdown",
   "metadata": {},
   "source": [
    "## Overview of the model\n",
    "\n",
    "The ODE model consists of one \"generalistic\" *E. coli* population $\\text{EC}_{any}$ that can consume both glucose (Gl) and acetate (Ac).\n",
    "\n",
    "\\begin{align*}\n",
    "\\dfrac{d \\text{BM}_{\\text{EC}_{any}}}{dt} &= v^{\\text{EC}_{any}}_\\mu\\cdot\\text{BM}_{\\text{EC}_{any}}-\\delta\\text{BM}_{\\text{EC}_{any}},\\\\\n",
    "\\dfrac{d \\text{Gl}}{dt} &= v^{\\text{EC}_{any}}_\\text{EX_Gl_e}\\cdot\\text{BM}_{\\text{EC}_{any}}+ {\\xi_{\\text{fed-batch}}}, \\\\\n",
    "\\dfrac{d \\text{Ac}}{dt} &= v^{\\text{EC}_{any}}_\\text{EX_Ac_e}\\cdot\\text{BM}_{\\text{EC}_{any}}+ {\\zeta\\cdot H(t-t_x)}\\cdot\\text{BM}_{\\text{EC}_{any}}.\n",
    "\\end{align*}\n",
    "\n",
    "This ODE model is linked to a SBML model, in our example the [*E.  coli* core model](http://bigg.ucsd.edu/models/e_coli_core), and we have have to define the SBML-dependent names of the reactions that we plan to follow over time.\n",
    "\n",
    "In order to translate this theoretical model into a DAPHNE model, we need to understand what the different components are. \n",
    "\n",
    "### Metabolites (classMetabolite)\n",
    "\n",
    "The model consists of 3 equations following the temporal variation in the quantity of 3 \"dynamic metabolites\" DMetabolite or Biomass (which inherits from DMetabolite) objects:\n",
    "\n",
    "* $\\text{BM}_{\\text{EC}_{any}}$, the population biomass, which is to be initialized as a classMetabolite.Biomass object\n",
    "* Gl, glucose, a classMetabolite.DMetabolite object\n",
    "* Ac, acetate, a classMetabolite.DMetabolite object\n",
    "\n",
    "For these metabolites we need also initialization values, which depend on the environment/condition.\n",
    "\n",
    "### Reactions (classReaction)\n",
    "\n",
    "\\begin{align*}\n",
    "\\dfrac{d \\text{BM}_{\\text{EC}_{any}}}{dt} &= \\color{red}{v^{\\text{EC}_{any}}_\\mu}\\cdot\\text{BM}_{\\text{EC}_{any}}-\\color{blue}{\\delta}\\text{BM}_{\\text{EC}_{any}},\\\\\n",
    "\\dfrac{d \\text{Gl}}{dt} &= \\color{red}{v^{\\text{EC}_{any}}_\\text{EX_Gl_e}}\\cdot\\text{BM}_{\\text{EC}_{any}}+ \\color{blue}{\\xi_{\\text{fed-batch}}}, \\\\\n",
    "\\dfrac{d \\text{Ac}}{dt} &= \\color{red}{v^{\\text{EC}_{any}}_\\text{EX_Ac_e}}\\cdot\\text{BM}_{\\text{EC}_{any}}+ \\color{blue}{\\zeta\\cdot H(t-t_x)}\\cdot\\text{BM}_{\\text{EC}_{any}}.\n",
    "\\end{align*}\n",
    "\n",
    "There are 6 reactions (in a general sense) in the equations, 3 of them linked to flux solutions from the FBA problem (highlighted in red) and 3 that are independent of the FBA solution (highlighted in blue). We need to define a \"dynamic reaction\" DReaction object only for those reactions that have rates changing over time:\n",
    "\n",
    "* $v^{\\text{EC}_{any}}_\\mu$, the biomass flux solution, retrieved from FBA\n",
    "* $v^{\\text{EC}_{any}}_\\text{EX_Gl_e}$, the glucose consumption rate, retrieved from FBA\n",
    "* $v^{\\text{EC}_{any}}_\\text{EX_Ac_e}$, the acetate consumption/secretion rate, retrieved from FBA\n",
    "* $\\zeta\\cdot H(t-t_x)$, a step function for the feeding of acetate at a certain time point, condition dependent\n",
    "\n",
    "We do not need a DReaction object for:\n",
    "\n",
    "* $\\delta$, the cell death rate, a fixed parameter\n",
    "* $\\xi_{\\text{fed-batch}}$, the fed-batch rate for glucose, a fixed parameter condition dependent\n",
    "\n"
   ]
  },
  {
   "cell_type": "markdown",
   "metadata": {},
   "source": [
    "\n",
    "## Model construction\n",
    "\n",
    "### Initialization of parameters, labels etc.\n",
    "\n",
    "We start initializing the parameters and other elements for the simulations."
   ]
  },
  {
   "cell_type": "code",
   "execution_count": null,
   "metadata": {},
   "outputs": [],
   "source": [
    "## SBML model to load\n",
    "mpath = DAPHNEPATH+'ecoli/bigg/e_coli_core.xml'\n",
    "\n",
    "## Biomass function name and reaction names in the SBML model\n",
    "bmf = 'BIOMASS_Ecoli_core_w_GAM'\n",
    "rxnnames = {'EX_glc_e':'EX_glc__D_e', \n",
    "            'EX_o2_e': 'EX_o2_e',\n",
    "            'EX_ac_e':'EX_ac_e'}\n",
    "\n",
    "## General labels\n",
    "label='diauxic_shift'\n",
    "ename = 'ecoli core'"
   ]
  },
  {
   "cell_type": "markdown",
   "metadata": {},
   "source": [
    "### Experimental conditions (from Enjalbert et al. 2015)\n",
    "\n",
    "We will use as examples the 3 experimental conditions from Enjalbert et al., namely:\n",
    "\n",
    "1. Batch Growth on 15mM Glucose\n",
    "2. Batch Growth on 15mM Glucose and feeding of acetate upon glucose exhaustion to maintain a concentration of 4mM Acetate\n",
    "3. Batch Growth on 15mM Glucose and constant feeding of acetate to maintain a concentration of 32mM Acetate\n",
    "\n",
    "However, you can also define other environmental conditions."
   ]
  },
  {
   "cell_type": "code",
   "execution_count": null,
   "metadata": {},
   "outputs": [],
   "source": [
    "# Initialize parameters environment and condition dependent to 0\n",
    "expcond = 'NA'\n",
    "biomass0 = 0.\n",
    "glucose0 = 0.0 #mM\n",
    "acetate0 = 0.0 #mM\n",
    "ac_thr = 0.0\n",
    "# Glucose fed-batch paramter\n",
    "fb=0.\n",
    "# Acetate feeding paramter\n",
    "afb=0.\n",
    "# Time at which glucose is exhausted and acetate feeding starts (Enjalbert et al. 2015 conditions)\n",
    "t_glc = 0.0\n",
    "\n",
    "# Approximate convertion valute from OD to gDW measurement\n",
    "ODtoGDW=0.33\n",
    "# Biomass dilution rate in chemostat, 1/hr\n",
    "ch = 0.\n",
    "# Cell death rate\n",
    "death_rate = -0.03\n",
    "# Conditions from Enjalbert et al. 2015\n",
    "volExt = 0.03\n",
    "volUn = 'L'\n",
    "expcondLabels = {'batch_low_Glc': 'grown on 15 mM Glc',\n",
    "                 'fedbatch_low_Ac': 'grown on 15 mM Glc, fed 4 mM Ac',\n",
    "                 'fedbatch_high_Ac': 'grown on 15 mM Glc, fed 32 mM Ac'}\n",
    "\n",
    "# Set flags for the 3 conditions of interest\n",
    "# Set one condition flag to True\n",
    "runbatchglc = False\n",
    "runfedlowacetate = False\n",
    "runfedhighacetate = True\n",
    "\n",
    "if runbatchglc:\n",
    "    print('Simulating Batch Growth on 15mM Glucose as in Enjalbert2015')\n",
    "    expcond = 'batch_low_Glc'\n",
    "    biomass0 = 0.0027*0.95\n",
    "    glucose0 = 15.0 #mM\n",
    "    acetate0 = 0.0 #mM\n",
    "    fb = 0.\n",
    "    afb = 0.\n",
    "elif runfedlowacetate:\n",
    "    print('Simulating Batch Growth on 15mM Glucose and constant 4mM Acetate as in Enjalbert2015')\n",
    "    expcond = 'fedbatch_low_Ac'\n",
    "    biomass0 = 0.0038*0.95\n",
    "    glucose0 = 15.0\n",
    "    acetate0 = 0.0\n",
    "    afb = 1.0\n",
    "    ac_thr = 4.0\n",
    "    t_glc = 3.8\n",
    "elif runfedhighacetate:\n",
    "    print('Simulating Batch Growth on 15mM Glucose and constant 32mM Acetate as in Enjalbert2015')\n",
    "    expcond = 'fedbatch_high_Ac'\n",
    "    biomass0 = 0.006*0.75\n",
    "    glucose0 = 15.0\n",
    "    acetate0 = 32.0\n",
    "    afb = 1.0\n",
    "    ac_thr = 32.0\n",
    "    t_glc = 3.3\n",
    "else:\n",
    "    print('Simulating custom conditions')\n",
    "\n",
    "## Units:\n",
    "## biomass0 is already gDW\n",
    "## glucose0 and acetate0 are concentrations (mM)\n",
    "## dMetabolites are initialized with quantities (mmol)\n",
    "acetate0 = volExt*acetate0 # mM*L = mmol\n",
    "glucose0 = volExt*glucose0 # mM*L = mmol"
   ]
  },
  {
   "cell_type": "markdown",
   "metadata": {},
   "source": [
    "### FBA flux constraints\n",
    "\n",
    "We now define the fixed parameters to constrain the FBA problem. These values are taken from literature and are not changed for the different conditions. For glucose and acetate uptake, they are used to define a Michaelis-Menten kinetics."
   ]
  },
  {
   "cell_type": "code",
   "execution_count": null,
   "metadata": {},
   "outputs": [],
   "source": [
    "## Fixed FBA related parameters\n",
    "## Uptake Vmax 10 mmol/g/hr (Gosset, 2005)\n",
    "## Uptake Km 10 muM = 0.01 mM (Gosset, 2005)\n",
    "vmaxexglc = 10. #mmol/g/hr\n",
    "vmaxexace = 10. #mmol/g/hr\n",
    "kmuptake = 0.01 #mM\n",
    "## Parametrized with Varma 1994\n",
    "vminoxygen = -11.5\n",
    "ubexace = 3.0"
   ]
  },
  {
   "cell_type": "markdown",
   "metadata": {},
   "source": [
    "### DMetabolites\n",
    "\n",
    "We now initialize 3 dynamic metabolites:\n",
    "\n",
    "\\begin{align*}\n",
    "\\dfrac{d \\color{red}{\\text{BM}_{\\text{EC}_{any}}}}{dt} &= (v^{\\text{EC}_{any}}_\\mu -\\delta )\\cdot\\color{red}{\\text{BM}_{\\text{EC}_{any}}},\\\\\n",
    "\\dfrac{d \\color{orange}{\\text{Gl}}}{dt} &= v^{\\text{EC}_{any}}_\\text{EX_Gl_e}\\cdot\\color{red}{\\text{BM}_{\\text{EC}_{any}}}+ {\\xi_{\\text{fed-batch}}}, \\\\\n",
    "\\dfrac{d \\color{blue}{\\text{Ac}}}{dt} &= (v^{\\text{EC}_{any}}_\\text{EX_Ac_e} + {\\zeta\\cdot H(t-t_x)})\\cdot\\color{red}{\\text{BM}_{\\text{EC}_{any}}}.\n",
    "\\end{align*}\n",
    "\n",
    "The initialization of a DMetabolite object requires the following arguments:\n",
    "\n",
    "1. The name of the metabolite in the SBML model (if there is a correspondent one).\n",
    "2. The initial quantity.\n",
    "3. A boolean, true for internal metabolites.\n",
    "4. A dictionary of reactions in which the metabolite is involved. The dictionary keys are the reactions' names (which may or may not have a corresponding DReaction object, depending if their rates change over time or not), the dictionary values are lists of tuples. Each tuple corresponds to a multiplication factor. If the reaction is a fixed rate (e.g. $\\xi_{\\text{fed-batch}}$), the tuple has as 1st element the fed-batch rate, and as 2nd element None. If the reaction is proportional to the biomass (e.g. $\\delta\\text{BM}_{\\text{EC}_{any}}$), the tuple contains the death rate and the biomass DMetabolite name (which will be assigned later on when the model is initialized).\n",
    "5. Quantity units, optional, deafults to mmol"
   ]
  },
  {
   "cell_type": "code",
   "execution_count": null,
   "metadata": {},
   "outputs": [],
   "source": [
    "biomass_EC = cme.Biomass([biomass0], {'growth': [(1, 'biomass_EC')], 'death': [(death_rate, 'biomass_EC')]})\n",
    "ex_glucose_EC = cme.DMetabolite('glc_D_e', [glucose0], False, {'glucose_exchange': [(1, 'biomass_EC')], 'glucose_fed': [(fb, None)] })\n",
    "ex_acetate_EC = cme.DMetabolite('ac_e', [acetate0], False, {'acetate_exchange': [(1, 'biomass_EC')], 'acetate_fed': [(afb, 'biomass_EC')]})"
   ]
  },
  {
   "cell_type": "markdown",
   "metadata": {},
   "source": [
    "### DReactions\n",
    "\n",
    "We need to initialize DReaction objects for those reactions that will have rates changing over time. Some will be linked to the FBA solution, some won't. The initialization of a DReaction object requires the following arguments:\n",
    "\n",
    "1. The name of the corresponding SBML reaction if the reaction is linked to the FBA problem, None if not.\n",
    "2. A KineticLaw object that describes the evolution over time of the reaction rate\n",
    "3. A boolean, True if the reaction is irreversible\n",
    "\n",
    "Additional optional arguments can be specified for more specific kinetic laws. For example, the isODE argument is a boolean with value True if the function is a pure ODE function (i.e. not linked to the FBA problem).\n"
   ]
  },
  {
   "cell_type": "code",
   "execution_count": null,
   "metadata": {},
   "outputs": [],
   "source": [
    "acetate_exchange_EC = cre.DReaction(rxnnames['EX_ac_e'], cre.MichaelisMenten1(ex_acetate_EC, 1, vmaxexace, kmuptake, 1, upperBound=ubexace), False)\n",
    "glucose_exchange_EC = cre.DReaction(rxnnames['EX_glc_e'], cre.MichaelisMenten1(ex_glucose_EC, 1, vmaxexglc, kmuptake, 1, upperBound=15.), False)\n",
    "growth_EC = cre.DReaction(bmf, cre.FixedBound(0., 1000.))\n",
    "acetate_fed_EC = cre.DReaction(None, cre.SquareWave(min(9.1, vmaxexace), 20, 1, t_glc), True, isODE=True)\n",
    "oxygen_exchange_EC = cre.DReaction(rxnnames['EX_o2_e'], cre.FixedBound(vminoxygen, 0), False)"
   ]
  },
  {
   "cell_type": "markdown",
   "metadata": {},
   "source": [
    "### DynamicModel\n",
    "\n",
    "We now have to initialize the DynamicModel object. It needs the following arguments:\n",
    "\n",
    "1. A dictionary of the DReaction objects constituting the model, the keys of the dictionary must be consistent with the keys previously used to initialize the DMetabolite objects.\n",
    "2. A dictionary of the DMetabolite objects constituting the model, the keys of the dictionary must be consistent with the keys previously used to initialize the DMetabolite objects.\n",
    "3. The path to the SBML model.\n",
    "4. The volume of the environment.\n",
    "5. The units of the volume.\n",
    "6. The solver to be used to solve the FBA problem.\n",
    "7. A name to be used to save the model.\n",
    "8. The path where to store the simulation output (pickle file).\n"
   ]
  },
  {
   "cell_type": "code",
   "execution_count": null,
   "metadata": {},
   "outputs": [],
   "source": [
    "## Define the dictionary of DReactions\n",
    "dyRxn_EC = {'glucose_exchange': glucose_exchange_EC, \n",
    "            'acetate_exchange': acetate_exchange_EC,\n",
    "            'acetate_fed': acetate_fed_EC,\n",
    "            'oxygen_exchange': oxygen_exchange_EC,\n",
    "            'growth': growth_EC}\n",
    "## Define the dictionary of DMetabolites\n",
    "dyMet_EC = {'biomass_EC': biomass_EC,\n",
    "            'ex_glucose': ex_glucose_EC,\n",
    "            'ex_acetate': ex_acetate_EC}\n",
    "\n",
    "## Initialize the model\n",
    "exitname = '%s-%s-%s' % (ename, expcond, label) \n",
    "model_EC = cmo.DynamicModel(dyRxn_EC, dyMet_EC, mpath, volExt, volUn, 'optlang-glpk', exitname+'_EC', savePath='./')\n",
    "\n",
    "## Load the model \n",
    "model_EC.loadSBMLModel()\n",
    "## Set the objective function of the FBA problem\n",
    "model_EC.resetObjective()\n",
    "model_EC.setObjective(growth_EC.modName, 1.)\n",
    "## Make sure no extra carbon sources are available in the environment\n",
    "model_EC.constrainSources(element='C', count=0, uptakeOff=True)\n",
    "## Initialize the metabolite concentrations\n",
    "model_EC.initializeConcentrations()\n",
    "## Use the pFBA method to solve the FBA problem\n",
    "model_EC.setParsimoniousFBA(True)\n",
    "## Continue the simulation as a pure ODE system once the FBA problem becomes infeasible\n",
    "model_EC.setQuitOnFBAError(False)\n",
    "## Set a threshold to enter stationary phase\n",
    "## Not relevant here (set to a negative value)\n",
    "model_EC.setMinimalMaintenance(growth_EC.modName, -0.15)\n",
    "## Set a threshold on the difference between constraints at \n",
    "## different time points to decide whether to restart FBA or not\n",
    "## Relevant only in the case the environment is abruptly changed \n",
    "model_EC.setBoundsThreshold(0.8*vmaxexglc)\n",
    "## Set the ATPM constraints directly in the cobra model\n",
    "model_EC.cbModel.reactions.get_by_id('ATPM').upper_bound = 8.39\n",
    "model_EC.cbModel.reactions.get_by_id('ATPM').lower_bound = 8.39"
   ]
  },
  {
   "cell_type": "markdown",
   "metadata": {},
   "source": [
    "### Run the simulation\n",
    "\n",
    "We can now run the simulation, using the runDynamicFBA method. It needs as argument:\n",
    "\n",
    "1. Maximal simulated time (in hours) after which it will exit.\n",
    "2. Method for the ODE integration.\n",
    "3. Tuple for the parameters of the ODE integration: (flag for the integration mode, minimal step size, maximal step size, maximum number of steps).\n",
    "4. Boolean flag, True for verbose output.\n",
    "5. Boolean flag, True to quit upon an infeasible FBA solution.\n"
   ]
  },
  {
   "cell_type": "code",
   "execution_count": null,
   "metadata": {},
   "outputs": [],
   "source": [
    "## Set simulation parameters\n",
    "maxtime = 10.5\n",
    "minstep = 0.0\n",
    "nsteps = 10000\n",
    "\n",
    "## Start simulation\n",
    "model_EC.runDynamicFBA(maxtime, 'vode', (0, minstep, 1., nsteps), False, quitOnFBAError=False)"
   ]
  },
  {
   "cell_type": "markdown",
   "metadata": {},
   "source": [
    "### Plot the output\n",
    "\n",
    "We can now plot the simulation result, overlaying the data from Enjalbert et al. 2015. For this we load the function defined in the file plotFunctions.py.\n"
   ]
  },
  {
   "cell_type": "code",
   "execution_count": null,
   "metadata": {},
   "outputs": [],
   "source": [
    "%reload_ext autoreload\n",
    "%autoreload 2\n",
    "\n",
    "from plotFunctions import plotEnjalbert2015_growth1EC\n",
    "\n",
    "plotEnjalbert2015_growth1EC(model_EC, expcond, '-'.join(exitname.split('-')[1:]), DAPHNEPATH)"
   ]
  }
 ],
 "metadata": {
  "kernelspec": {
   "display_name": "Python [conda env:daphnePy2] *",
   "language": "python",
   "name": "conda-env-daphnePy2-py"
  },
  "language_info": {
   "codemirror_mode": {
    "name": "ipython",
    "version": 2
   },
   "file_extension": ".py",
   "mimetype": "text/x-python",
   "name": "python",
   "nbconvert_exporter": "python",
   "pygments_lexer": "ipython2",
   "version": "2.7.15"
  }
 },
 "nbformat": 4,
 "nbformat_minor": 2
}
